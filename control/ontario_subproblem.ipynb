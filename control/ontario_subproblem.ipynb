{
 "cells": [
  {
   "cell_type": "code",
   "execution_count": 1,
   "metadata": {},
   "outputs": [],
   "source": [
    "import numpy as np\n",
    "import cvxpy as cp"
   ]
  },
  {
   "cell_type": "markdown",
   "metadata": {},
   "source": [
    "# Load Data"
   ]
  },
  {
   "cell_type": "code",
   "execution_count": 24,
   "metadata": {},
   "outputs": [],
   "source": [
    "O_SA = 18.96 * 1e9 # Ontario Surface Area"
   ]
  },
  {
   "cell_type": "code",
   "execution_count": 8,
   "metadata": {},
   "outputs": [],
   "source": [
    "niagra_training = np.load('../Data/niagra_training.npy')\n",
    "niagra_testing = np.load('../Data/niagra_testing.npy')\n",
    "\n",
    "nbs_training = np.load('../Data/nbs_ontario_training.npy')\n",
    "nbs_testing = np.load('../Data/calculated_nbs_ontario.npy')"
   ]
  },
  {
   "cell_type": "code",
   "execution_count": 31,
   "metadata": {},
   "outputs": [],
   "source": [
    "# Net Basin Supply Uncertainty\n",
    "nbs_uncert = {\n",
    "    t : (min( [nbs_training[i::12] for i in range(12)][t-1] ),\n",
    "         max( [nbs_training[i::12] for i in range(12)][t-1] )) for t in range(1, 13)\n",
    "}"
   ]
  },
  {
   "cell_type": "code",
   "execution_count": 34,
   "metadata": {},
   "outputs": [],
   "source": [
    "# Niagra Flow Uncertainty\n",
    "nflow_uncert = {\n",
    "    t : (min( [niagra_training[i::12] for i in range(12)][t-1] ),\n",
    "         max( [niagra_training[i::12] for i in range(12)][t-1] )) for t in range(1, 13)\n",
    "}"
   ]
  },
  {
   "cell_type": "code",
   "execution_count": 33,
   "metadata": {},
   "outputs": [],
   "source": [
    "# M(t) and m(t)\n",
    "surface_dict = {\n",
    "        1 : (73.56, 75.26),\n",
    "        2 : (73.62, 75.37),\n",
    "        3 : (73.78, 75.33),\n",
    "        4 : (73.97, 75.60),\n",
    "        5 : (74.22, 75.73),\n",
    "        6 : (74.27, 75.69),\n",
    "        7 : (74.26, 75.63),\n",
    "        8 : (74.15, 75.49),\n",
    "        9 : (74.04, 75.24),\n",
    "        10 : (73.83, 75.25),\n",
    "        11 : (73.67, 75.18),\n",
    "        12 : (73.57, 75.23),\n",
    "    }"
   ]
  },
  {
   "cell_type": "markdown",
   "metadata": {},
   "source": [
    "# Construct Simulation and Control Algorithm"
   ]
  },
  {
   "cell_type": "code",
   "execution_count": 18,
   "metadata": {},
   "outputs": [],
   "source": [
    "def monthly_surface_extremes(month: int):\n",
    "    month = month % 12\n",
    "    return surface_dict[month]"
   ]
  },
  {
   "cell_type": "code",
   "execution_count": 19,
   "metadata": {},
   "outputs": [],
   "source": [
    "def limit_flows(prev_surf, quart_month):\n",
    "    if quart_month in [i for i in range(1, 13)] + [48]:\n",
    "        return 11500\n",
    "    else:\n",
    "        if prev_surf <= 74.22: return 5950\n",
    "        elif prev_surf <= 74.34: return 5950 + 1333*(prev_surf-74.22)\n",
    "        elif prev_surf <= 74.54: return 6111 + 9100*(prev_surf-74.34)\n",
    "        elif prev_surf <= 74.70: return 7930 + 2625*(prev_surf-74.54)\n",
    "        elif prev_surf <= 75.13: return 8350 + 1000*(prev_surf-74.70)\n",
    "        elif prev_surf <= 75.44: return 8780 + 3645*(prev_surf-75.13)\n",
    "        elif prev_surf <= 75.70: return 9910\n",
    "        elif prev_surf <= 76: return 10200\n",
    "        else: return 10700"
   ]
  },
  {
   "cell_type": "code",
   "execution_count": 20,
   "metadata": {},
   "outputs": [],
   "source": [
    "def g(prev_surf):\n",
    "    return 555.823*(prev_surf - 0.035 - 69.474)**(1.5)"
   ]
  },
  {
   "cell_type": "code",
   "execution_count": null,
   "metadata": {},
   "outputs": [],
   "source": [
    "def conersion_to_SA(flow_rate):\n",
    "    '''\n",
    "    flow rate assumed m^3/s\n",
    "    '''\n",
    "    return "
   ]
  },
  {
   "cell_type": "code",
   "execution_count": 78,
   "metadata": {},
   "outputs": [],
   "source": [
    "def find_x(month: int, quart_month: int, prev_flow: float, prev_surf: float):\n",
    "    '''\n",
    "    Construct a Robust LO \n",
    "    '''\n",
    "    \n",
    "    min_surf, max_surf = monthly_surface_extremes(month)\n",
    "    \n",
    "    nflow_i_lb = nflow_uncert[month][0] / (O_SA * 4) # empirical LB on Niagra Flow for month\n",
    "    nflow_i_ub = nflow_uncert[month][1] / (O_SA * 4) # empirical UB on Niagra Flow for month\n",
    "    nbs_i_lb = nbs_uncert[month][0] / 4 # empirical LB on Net Basin Supply for month\n",
    "    nbs_i_ub = nbs_uncert[month][1] / (4) # empirical UB on Net Basin Supply for month\n",
    "\n",
    "    pre_release = g(prev_surf)\n",
    "\n",
    "    # print(pre_release)\n",
    "    # print(( 657000.7 / O_SA )*pre_release)\n",
    "\n",
    "    # Alternative Approach: minimize difference\n",
    "    x = cp.Variable(1)\n",
    "\n",
    "    total_flow = x + pre_release\n",
    "    total_release = ( 657000.7 / O_SA ) * total_flow\n",
    "\n",
    "    # Might need to build in ability for infeasible to loosen bound\n",
    "    s_ub = prev_surf + nflow_i_ub + nbs_i_ub - total_release\n",
    "    s_lb = prev_surf + nflow_i_lb + nbs_i_lb - total_release\n",
    "\n",
    "    objective = cp.Minimize(x)\n",
    "\n",
    "    surface_height = [s_ub <= max_surf, s_lb >= min_surf]\n",
    "    flow_change = [cp.abs(total_flow- prev_flow) <= 700]\n",
    "    max_flow = [total_flow  <= limit_flows(prev_surf, quart_month)]\n",
    "    print(747*(prev_surf - 69.10)**(1.47))\n",
    "    channel_capacity = [total_flow <= 747*(prev_surf - 69.10)**(1.47)]\n",
    "\n",
    "    # One more constraint: try to incorporate next month\n",
    "\n",
    "    constraints = surface_height + flow_change + max_flow + channel_capacity\n",
    "\n",
    "    prob = cp.Problem(objective, constraints)\n",
    "    prob.solve()\n",
    "\n",
    "    return prob, x"
   ]
  },
  {
   "cell_type": "code",
   "execution_count": 79,
   "metadata": {},
   "outputs": [
    {
     "name": "stdout",
     "output_type": "stream",
     "text": [
      "9648.429762185495\n"
     ]
    },
    {
     "name": "stderr",
     "output_type": "stream",
     "text": [
      "/Users/q3/opt/anaconda3/envs/MCM-env/lib/python3.12/site-packages/cvxpy/reductions/solvers/solving_chain.py:336: FutureWarning: \n",
      "    Your problem is being solved with the ECOS solver by default. Starting in \n",
      "    CVXPY 1.5.0, Clarabel will be used as the default solver instead. To continue \n",
      "    using ECOS, specify the ECOS solver explicitly using the ``solver=cp.ECOS`` \n",
      "    argument to the ``problem.solve`` method.\n",
      "    \n",
      "  warnings.warn(ECOS_DEPRECATION_MSG, FutureWarning)\n"
     ]
    }
   ],
   "source": [
    "solution, x = find_x(2, 1, 6690, 74.8)"
   ]
  },
  {
   "cell_type": "code",
   "execution_count": 80,
   "metadata": {},
   "outputs": [
    {
     "data": {
      "text/plain": [
       "'optimal'"
      ]
     },
     "execution_count": 80,
     "metadata": {},
     "output_type": "execute_result"
    }
   ],
   "source": [
    "solution.status"
   ]
  },
  {
   "cell_type": "code",
   "execution_count": 82,
   "metadata": {},
   "outputs": [],
   "source": [
    "total_flow = x.value[0] + g(74.8)"
   ]
  },
  {
   "cell_type": "code",
   "execution_count": 85,
   "metadata": {},
   "outputs": [],
   "source": [
    "s_new = 74.8 + niagra_testing[0]/O_SA + nbs_testing[0] - (total_flow/O_SA)*2.6784*1e6"
   ]
  },
  {
   "cell_type": "code",
   "execution_count": 86,
   "metadata": {},
   "outputs": [
    {
     "data": {
      "text/plain": [
       "75.06786444083811"
      ]
     },
     "execution_count": 86,
     "metadata": {},
     "output_type": "execute_result"
    }
   ],
   "source": [
    "s_new"
   ]
  },
  {
   "cell_type": "code",
   "execution_count": null,
   "metadata": {},
   "outputs": [],
   "source": [
    "# Environment\n",
    "'''\n",
    "Time Horizon: January 2012-December 2020\n",
    "'''\n",
    "\n",
    "# \n"
   ]
  },
  {
   "cell_type": "code",
   "execution_count": null,
   "metadata": {},
   "outputs": [],
   "source": [
    "# Need to properly subtract flow: with SA"
   ]
  }
 ],
 "metadata": {
  "kernelspec": {
   "display_name": "MCM-env",
   "language": "python",
   "name": "python3"
  },
  "language_info": {
   "codemirror_mode": {
    "name": "ipython",
    "version": 3
   },
   "file_extension": ".py",
   "mimetype": "text/x-python",
   "name": "python",
   "nbconvert_exporter": "python",
   "pygments_lexer": "ipython3",
   "version": "3.12.1"
  }
 },
 "nbformat": 4,
 "nbformat_minor": 2
}
