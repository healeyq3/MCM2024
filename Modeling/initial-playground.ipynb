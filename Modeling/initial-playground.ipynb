{
 "cells": [
  {
   "cell_type": "code",
   "execution_count": 1,
   "metadata": {},
   "outputs": [],
   "source": [
    "import numpy as np\n",
    "import pandas as pd"
   ]
  },
  {
   "cell_type": "markdown",
   "metadata": {},
   "source": [
    "Side thoughts:\n",
    "- need to restrict flows to $\\mathbf{R}_{++}$"
   ]
  },
  {
   "cell_type": "markdown",
   "metadata": {},
   "source": [
    "Enumeration of Lakes:\\\n",
    "Lake Superior: 1\\\n",
    "Lake Michigan/Huron : 2\\\n",
    "Lake St. Clair: 3\\\n",
    "Lake Erie: 4\\\n",
    "Lake Ontario: 5\\\n",
    "Sink (including all bodies of water after the St. Lawrence River): 6\n",
    "\n",
    "Enumeration of Edges:\\\n",
    "St. Mary's River: (1, 2)\\\n",
    "St. Clair River: (2, 3)\\\n",
    "Detroit River: (3, 4)\\\n",
    "Niagra River: (4, 5)\\\n",
    "St. Lawrence River: (5, 6)"
   ]
  },
  {
   "cell_type": "markdown",
   "metadata": {},
   "source": [
    "We take the following DAG $G = (N, E)$, where $V = \\left\\{ 1, 2, 3, 4, 5, 6 \\right\\}$ and $E = \\left\\{ (1, 2), (2, 3), (3, 4), (4, 5), (5, 6) \\right\\}$, where $(i, j) \\in E$ is an ordered pair representing an edge from node $i$ to node $j$."
   ]
  },
  {
   "cell_type": "code",
   "execution_count": 3,
   "metadata": {},
   "outputs": [],
   "source": [
    "edges = [(1, 2), (2, 3), (3, 4), (4, 5), (5, 6)]\n",
    "N = 6\n",
    "L = 5\n",
    "A = np.zeros((N, L))"
   ]
  },
  {
   "cell_type": "code",
   "execution_count": null,
   "metadata": {},
   "outputs": [],
   "source": [
    "edge_counter = 0\n",
    "for edge in edges:\n",
    "    i = edge[0] - 1\n",
    "    j = edge[1] - 1\n",
    "    A[i, edge_counter] = -1\n",
    "    A[j, edge_counter] = 1"
   ]
  }
 ],
 "metadata": {
  "kernelspec": {
   "display_name": "MCM-env",
   "language": "python",
   "name": "python3"
  },
  "language_info": {
   "codemirror_mode": {
    "name": "ipython",
    "version": 3
   },
   "file_extension": ".py",
   "mimetype": "text/x-python",
   "name": "python",
   "nbconvert_exporter": "python",
   "pygments_lexer": "ipython3",
   "version": "3.12.1"
  }
 },
 "nbformat": 4,
 "nbformat_minor": 2
}
